{
 "cells": [
  {
   "cell_type": "code",
   "execution_count": 1,
   "id": "c8e9f53c",
   "metadata": {},
   "outputs": [],
   "source": [
    "from alexi.pagernn import PageDataset\n",
    "from pathlib import Path"
   ]
  },
  {
   "cell_type": "code",
   "execution_count": 2,
   "id": "d5dacb6c",
   "metadata": {},
   "outputs": [],
   "source": [
    "import torch\n",
    "from torch.utils.data import DataLoader"
   ]
  },
  {
   "cell_type": "code",
   "execution_count": 3,
   "id": "be4feb28",
   "metadata": {},
   "outputs": [],
   "source": [
    "ds = PageDataset(Path(\"../data/train/\").glob(\"*.csv\"))"
   ]
  },
  {
   "cell_type": "code",
   "execution_count": null,
   "id": "647d9018",
   "metadata": {},
   "outputs": [],
   "source": []
  },
  {
   "cell_type": "code",
   "execution_count": null,
   "id": "432f4e7d",
   "metadata": {},
   "outputs": [],
   "source": []
  },
  {
   "cell_type": "code",
   "execution_count": null,
   "id": "fae24a6c",
   "metadata": {},
   "outputs": [],
   "source": []
  },
  {
   "cell_type": "code",
   "execution_count": null,
   "id": "75acd4cc",
   "metadata": {},
   "outputs": [],
   "source": []
  },
  {
   "cell_type": "code",
   "execution_count": 5,
   "id": "936a46dd",
   "metadata": {},
   "outputs": [],
   "source": [
    "data_loader = DataLoader(ds, batch_size=8, shuffle=False, collate_fn=lambda x: x)"
   ]
  },
  {
   "cell_type": "code",
   "execution_count": 6,
   "id": "b7564911",
   "metadata": {},
   "outputs": [
    {
     "data": {
      "text/plain": [
       "(tensor([1, 2, 2, 2, 2], dtype=torch.int32),\n",
       " tensor([1, 2, 2, 2, 2, 2, 2], dtype=torch.int32),\n",
       " tensor([5, 6, 6, 6, 6, 6, 6], dtype=torch.int32),\n",
       " tensor([5, 6, 6, 6, 6, 6, 6], dtype=torch.int32),\n",
       " tensor([5, 6, 6, 6, 6, 6, 6], dtype=torch.int32),\n",
       " tensor([5, 6, 6, 6, 6, 6, 6], dtype=torch.int32),\n",
       " tensor([5, 6, 6, 6, 6, 6, 6], dtype=torch.int32),\n",
       " tensor([5, 6, 6, 6, 6, 6, 6], dtype=torch.int32))"
      ]
     },
     "execution_count": 6,
     "metadata": {},
     "output_type": "execute_result"
    }
   ],
   "source": [
    "batch = next(iter(data_loader))\n",
    "feats, targets = zip(*batch)\n",
    "targets"
   ]
  },
  {
   "cell_type": "code",
   "execution_count": 4,
   "id": "d2577adf",
   "metadata": {},
   "outputs": [],
   "source": [
    "from torch.nn.utils.rnn import pad_sequence, pack_padded_sequence, pad_packed_sequence"
   ]
  },
  {
   "cell_type": "code",
   "execution_count": 9,
   "id": "f7d083c3",
   "metadata": {},
   "outputs": [
    {
     "data": {
      "text/plain": [
       "PackedSequence(data=tensor([1, 1, 5, 5, 5, 5, 5, 5, 2, 2, 6, 6, 6, 6, 6, 6, 2, 2, 6, 6, 6, 6, 6, 6,\n",
       "        2, 2, 6, 6, 6, 6, 6, 6, 2, 2, 6, 6, 6, 6, 6, 6, 0, 2, 6, 6, 6, 6, 6, 6,\n",
       "        0, 2, 6, 6, 6, 6, 6, 6], dtype=torch.int32), batch_sizes=tensor([8, 8, 8, 8, 8, 8, 8]), sorted_indices=tensor([0, 1, 2, 3, 4, 5, 6, 7]), unsorted_indices=tensor([0, 1, 2, 3, 4, 5, 6, 7]))"
      ]
     },
     "execution_count": 9,
     "metadata": {},
     "output_type": "execute_result"
    }
   ],
   "source": [
    "feats = pad_sequence(feats, batch_first=True)\n",
    "lens = [len(x) for x in targets]\n",
    "targets = pad_sequence(targets, batch_first=True)\n",
    "targets = pack_padded_sequence(targets, lens, batch_first=True, enforce_sorted=False)\n",
    "targets"
   ]
  },
  {
   "cell_type": "code",
   "execution_count": 11,
   "id": "07c8759e",
   "metadata": {},
   "outputs": [
    {
     "data": {
      "text/plain": [
       "(tensor([[1, 2, 2, 2, 2, 0, 0],\n",
       "         [1, 2, 2, 2, 2, 2, 2],\n",
       "         [5, 6, 6, 6, 6, 6, 6],\n",
       "         [5, 6, 6, 6, 6, 6, 6],\n",
       "         [5, 6, 6, 6, 6, 6, 6],\n",
       "         [5, 6, 6, 6, 6, 6, 6],\n",
       "         [5, 6, 6, 6, 6, 6, 6],\n",
       "         [5, 6, 6, 6, 6, 6, 6]], dtype=torch.int32),\n",
       " tensor([7, 7, 7, 7, 7, 7, 7, 7]))"
      ]
     },
     "execution_count": 11,
     "metadata": {},
     "output_type": "execute_result"
    }
   ],
   "source": [
    "pad_packed_sequence(targets, batch_first=True)"
   ]
  },
  {
   "cell_type": "code",
   "execution_count": null,
   "id": "cb50c102",
   "metadata": {},
   "outputs": [],
   "source": []
  }
 ],
 "metadata": {
  "kernelspec": {
   "display_name": "Python 3 (ipykernel)",
   "language": "python",
   "name": "python3"
  },
  "language_info": {
   "codemirror_mode": {
    "name": "ipython",
    "version": 3
   },
   "file_extension": ".py",
   "mimetype": "text/x-python",
   "name": "python",
   "nbconvert_exporter": "python",
   "pygments_lexer": "ipython3",
   "version": "3.11.4"
  }
 },
 "nbformat": 4,
 "nbformat_minor": 5
}
