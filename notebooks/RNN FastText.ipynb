{
 "cells": [
  {
   "cell_type": "code",
   "execution_count": 1,
   "id": "07b9402f",
   "metadata": {},
   "outputs": [],
   "source": [
    "import pandas as pd"
   ]
  },
  {
   "cell_type": "code",
   "execution_count": 2,
   "id": "98854323",
   "metadata": {},
   "outputs": [],
   "source": [
    "import fasttext"
   ]
  },
  {
   "cell_type": "code",
   "execution_count": 3,
   "id": "d3da73ab",
   "metadata": {},
   "outputs": [],
   "source": [
    "def load_csv(path):\n",
    "    df = pd.read_csv(path)\n",
    "    df = df.assign(xdelta=df.x0.diff(),\n",
    "                   ydelta=df.doctop.diff(),\n",
    "                   height=df.bottom-df.top,\n",
    "                   width=df.x1-df.x0) \n",
    "    df = df.assign(xdd=df.xdelta.diff(),\n",
    "                   ydd=df.ydelta.diff())\n",
    "    df = df.fillna(0)\n",
    "    return df"
   ]
  },
  {
   "cell_type": "code",
   "execution_count": 4,
   "id": "3a5fc36d",
   "metadata": {},
   "outputs": [],
   "source": [
    "df = pd.concat([load_csv(f)\n",
    "                for f in (\n",
    "                \"../data/train/Rgl-1314-2021-L-Lotissement.csv\",\n",
    "                \"../data/train/00-Reglement-1000-2008-PPC.csv\",\n",
    "                \"../data/train/Rgl-1314-2021-PC-version-en-vigueur-20230509.csv\",\n",
    "                \"../data/train/Rgl-1314-2021-TM-Travaux-municipaux.csv\",\n",
    "                \"../data/train/2022-03-21-Reglement-PAE-Adopte.csv\",\n",
    "                \"../data/train/2022-04-19-Rgl-1324-redevances-adopte.csv\",\n",
    "                \"../data/train/xx-2020-04-20-RGL-1289-Formation-CCE-adopte_1.csv\",\n",
    "                )], ignore_index=True)"
   ]
  },
  {
   "cell_type": "code",
   "execution_count": 5,
   "id": "b63d628e",
   "metadata": {},
   "outputs": [],
   "source": [
    "import numpy as np"
   ]
  },
  {
   "cell_type": "code",
   "execution_count": 6,
   "id": "56f1b7b8",
   "metadata": {},
   "outputs": [
    {
     "name": "stderr",
     "output_type": "stream",
     "text": [
      "2023-06-27 09:56:13.419219: I tensorflow/core/platform/cpu_feature_guard.cc:193] This TensorFlow binary is optimized with oneAPI Deep Neural Network Library (oneDNN) to use the following CPU instructions in performance-critical operations:  SSE4.1 SSE4.2\n",
      "To enable them in other operations, rebuild TensorFlow with the appropriate compiler flags.\n"
     ]
    }
   ],
   "source": [
    "import tensorflow as tf\n",
    "from tensorflow import keras\n",
    "from tensorflow.keras import layers"
   ]
  },
  {
   "cell_type": "code",
   "execution_count": 7,
   "id": "ec6955e8",
   "metadata": {},
   "outputs": [
    {
     "name": "stderr",
     "output_type": "stream",
     "text": [
      "Warning : `load_model` does not return WordVectorModel or SupervisedModel any more, but a `FastText` object which is very similar.\n"
     ]
    },
    {
     "data": {
      "text/html": [
       "<div>\n",
       "<style scoped>\n",
       "    .dataframe tbody tr th:only-of-type {\n",
       "        vertical-align: middle;\n",
       "    }\n",
       "\n",
       "    .dataframe tbody tr th {\n",
       "        vertical-align: top;\n",
       "    }\n",
       "\n",
       "    .dataframe thead th {\n",
       "        text-align: right;\n",
       "    }\n",
       "</style>\n",
       "<table border=\"1\" class=\"dataframe\">\n",
       "  <thead>\n",
       "    <tr style=\"text-align: right;\">\n",
       "      <th></th>\n",
       "      <th>xdelta</th>\n",
       "      <th>ydelta</th>\n",
       "      <th>x0</th>\n",
       "      <th>top</th>\n",
       "      <th>xdd</th>\n",
       "      <th>ydd</th>\n",
       "      <th>width</th>\n",
       "      <th>height</th>\n",
       "      <th>index</th>\n",
       "      <th>idelta</th>\n",
       "      <th>isnum</th>\n",
       "      <th>iseq</th>\n",
       "      <th>chapitre</th>\n",
       "      <th>section</th>\n",
       "    </tr>\n",
       "  </thead>\n",
       "  <tbody>\n",
       "    <tr>\n",
       "      <th>0</th>\n",
       "      <td>0.00000</td>\n",
       "      <td>0.00000</td>\n",
       "      <td>-1.603838</td>\n",
       "      <td>0.294861</td>\n",
       "      <td>0.0</td>\n",
       "      <td>0.0</td>\n",
       "      <td>3.854404</td>\n",
       "      <td>22.546310</td>\n",
       "      <td>False</td>\n",
       "      <td>0</td>\n",
       "      <td>False</td>\n",
       "      <td>False</td>\n",
       "      <td>False</td>\n",
       "      <td>False</td>\n",
       "    </tr>\n",
       "    <tr>\n",
       "      <th>1</th>\n",
       "      <td>123.01296</td>\n",
       "      <td>0.00000</td>\n",
       "      <td>-0.587435</td>\n",
       "      <td>0.294861</td>\n",
       "      <td>0.0</td>\n",
       "      <td>0.0</td>\n",
       "      <td>0.185036</td>\n",
       "      <td>22.546310</td>\n",
       "      <td>False</td>\n",
       "      <td>0</td>\n",
       "      <td>False</td>\n",
       "      <td>False</td>\n",
       "      <td>False</td>\n",
       "      <td>False</td>\n",
       "    </tr>\n",
       "    <tr>\n",
       "      <th>2</th>\n",
       "      <td>33.61764</td>\n",
       "      <td>0.00000</td>\n",
       "      <td>-0.309666</td>\n",
       "      <td>0.294861</td>\n",
       "      <td>-1.0</td>\n",
       "      <td>0.0</td>\n",
       "      <td>4.213874</td>\n",
       "      <td>22.546310</td>\n",
       "      <td>False</td>\n",
       "      <td>0</td>\n",
       "      <td>False</td>\n",
       "      <td>False</td>\n",
       "      <td>False</td>\n",
       "      <td>False</td>\n",
       "    </tr>\n",
       "    <tr>\n",
       "      <th>3</th>\n",
       "      <td>-156.63060</td>\n",
       "      <td>28.44948</td>\n",
       "      <td>-1.603838</td>\n",
       "      <td>0.415270</td>\n",
       "      <td>-1.0</td>\n",
       "      <td>1.0</td>\n",
       "      <td>0.711375</td>\n",
       "      <td>2.729439</td>\n",
       "      <td>False</td>\n",
       "      <td>0</td>\n",
       "      <td>False</td>\n",
       "      <td>False</td>\n",
       "      <td>False</td>\n",
       "      <td>False</td>\n",
       "    </tr>\n",
       "    <tr>\n",
       "      <th>4</th>\n",
       "      <td>45.47600</td>\n",
       "      <td>0.00000</td>\n",
       "      <td>-1.228089</td>\n",
       "      <td>0.415270</td>\n",
       "      <td>1.0</td>\n",
       "      <td>-1.0</td>\n",
       "      <td>1.737252</td>\n",
       "      <td>2.729439</td>\n",
       "      <td>False</td>\n",
       "      <td>0</td>\n",
       "      <td>False</td>\n",
       "      <td>False</td>\n",
       "      <td>False</td>\n",
       "      <td>False</td>\n",
       "    </tr>\n",
       "  </tbody>\n",
       "</table>\n",
       "</div>"
      ],
      "text/plain": [
       "      xdelta    ydelta        x0       top  xdd  ydd     width     height  \\\n",
       "0    0.00000   0.00000 -1.603838  0.294861  0.0  0.0  3.854404  22.546310   \n",
       "1  123.01296   0.00000 -0.587435  0.294861  0.0  0.0  0.185036  22.546310   \n",
       "2   33.61764   0.00000 -0.309666  0.294861 -1.0  0.0  4.213874  22.546310   \n",
       "3 -156.63060  28.44948 -1.603838  0.415270 -1.0  1.0  0.711375   2.729439   \n",
       "4   45.47600   0.00000 -1.228089  0.415270  1.0 -1.0  1.737252   2.729439   \n",
       "\n",
       "   index  idelta  isnum   iseq  chapitre  section  \n",
       "0  False       0  False  False     False    False  \n",
       "1  False       0  False  False     False    False  \n",
       "2  False       0  False  False     False    False  \n",
       "3  False       0  False  False     False    False  \n",
       "4  False       0  False  False     False    False  "
      ]
     },
     "execution_count": 7,
     "metadata": {},
     "output_type": "execute_result"
    }
   ],
   "source": [
    "from sklearn.preprocessing import StandardScaler\n",
    "import re\n",
    "indexlike = re.compile(r\"^(\\d+|[a-z])[\\)\\.]|-$\")\n",
    "scaler = StandardScaler()\n",
    "scaler.fit(df.loc[:, [\"x0\", \"top\", \"width\", \"height\"]])\n",
    "ft = fasttext.load_model(\"../alexi/extraction/rnn99.fasttext\")\n",
    "\n",
    "def make_features(df):\n",
    "    feats = df.loc[:,[\"xdelta\", \"ydelta\", \"x0\", \"top\", \"xdd\", \"ydd\", \"width\", \"height\"]]\n",
    "    index = []\n",
    "    idelta = []\n",
    "    isnum = []\n",
    "    iseq = []\n",
    "    chapitre = []\n",
    "    section = []\n",
    "    prevnum = 0\n",
    "    for t in df.loc[:, \"text\"]:\n",
    "        t = str(t)  # fuck you, pandas\n",
    "        isnum.append(t.isnumeric())\n",
    "        chapitre.append(\"chap\" in t.lower())\n",
    "        section.append(\"sect\" in t.lower())\n",
    "        if m := indexlike.match(t):\n",
    "            index.append(True)\n",
    "            if m.group(1) and m.group(1).isnumeric():\n",
    "                idx = int(m.group(1))\n",
    "                idelta.append(idx - prevnum)\n",
    "                iseq.append(idx == prevnum + 1)\n",
    "                prevnum = idx\n",
    "            else:\n",
    "                idelta.append(0)\n",
    "                iseq.append(False)\n",
    "        else:\n",
    "            index.append(False)\n",
    "            idelta.append(0)\n",
    "            iseq.append(False)\n",
    "    feats = feats.assign(# Seems not to help\n",
    "                         # xdelta=np.sign(df.loc[:, \"xdelta\"]),\n",
    "                         # ydelta=np.sign(df.loc[:, \"ydelta\"]),\n",
    "                         # Does seem useful (et pour cause)\n",
    "                         xdd=np.sign(df.loc[:, \"xdd\"]),\n",
    "                         ydd=np.sign(df.loc[:, \"ydd\"]))\n",
    "    scaled = scaler.transform(df.loc[:, [\"x0\", \"top\", \"width\", \"height\"]])\n",
    "    feats = feats.assign(x0=scaled[:,0], top=scaled[:, 1], width=scaled[:,2], height=scaled[:,3])\n",
    "    feats = feats.assign(index=index, idelta=idelta,\n",
    "                         isnum=isnum, iseq=iseq,\n",
    "                         chapitre=chapitre, section=section)\n",
    "    return feats\n",
    "def make_targets(df):\n",
    "    return df[\"tag\"]\n",
    "def make_words(df):\n",
    "    return np.array([ft.get_word_vector(w) for w in df[\"text\"]])\n",
    "\n",
    "\n",
    "features = make_features(df)\n",
    "targets = make_targets(df)\n",
    "words = make_words(df)\n",
    "features.head()"
   ]
  },
  {
   "cell_type": "code",
   "execution_count": 8,
   "id": "6de13a35",
   "metadata": {},
   "outputs": [],
   "source": [
    "import pickle"
   ]
  },
  {
   "cell_type": "code",
   "execution_count": 9,
   "id": "2b1d7f34",
   "metadata": {},
   "outputs": [],
   "source": [
    "with open(\"../alexi/extraction/rnn99.scaler.pkl\", \"wb\") as outfh:\n",
    "    pickle.dump(scaler, outfh)"
   ]
  },
  {
   "cell_type": "code",
   "execution_count": 10,
   "id": "7c89d4cb",
   "metadata": {},
   "outputs": [
    {
     "data": {
      "text/plain": [
       "((52166, 14), (52166,))"
      ]
     },
     "execution_count": 10,
     "metadata": {},
     "output_type": "execute_result"
    }
   ],
   "source": [
    "features.shape, targets.shape"
   ]
  },
  {
   "cell_type": "code",
   "execution_count": 11,
   "id": "0274be2d",
   "metadata": {},
   "outputs": [
    {
     "name": "stderr",
     "output_type": "stream",
     "text": [
      "2023-06-27 09:56:17.536822: I tensorflow/compiler/xla/stream_executor/cuda/cuda_gpu_executor.cc:981] successful NUMA node read from SysFS had negative value (-1), but there must be at least one NUMA node, so returning NUMA node zero\n",
      "2023-06-27 09:56:17.567072: I tensorflow/compiler/xla/stream_executor/cuda/cuda_gpu_executor.cc:981] successful NUMA node read from SysFS had negative value (-1), but there must be at least one NUMA node, so returning NUMA node zero\n",
      "2023-06-27 09:56:17.567350: I tensorflow/compiler/xla/stream_executor/cuda/cuda_gpu_executor.cc:981] successful NUMA node read from SysFS had negative value (-1), but there must be at least one NUMA node, so returning NUMA node zero\n",
      "2023-06-27 09:56:17.568319: I tensorflow/core/platform/cpu_feature_guard.cc:193] This TensorFlow binary is optimized with oneAPI Deep Neural Network Library (oneDNN) to use the following CPU instructions in performance-critical operations:  SSE4.1 SSE4.2\n",
      "To enable them in other operations, rebuild TensorFlow with the appropriate compiler flags.\n",
      "2023-06-27 09:56:17.568760: I tensorflow/compiler/xla/stream_executor/cuda/cuda_gpu_executor.cc:981] successful NUMA node read from SysFS had negative value (-1), but there must be at least one NUMA node, so returning NUMA node zero\n",
      "2023-06-27 09:56:17.568974: I tensorflow/compiler/xla/stream_executor/cuda/cuda_gpu_executor.cc:981] successful NUMA node read from SysFS had negative value (-1), but there must be at least one NUMA node, so returning NUMA node zero\n",
      "2023-06-27 09:56:17.569171: I tensorflow/compiler/xla/stream_executor/cuda/cuda_gpu_executor.cc:981] successful NUMA node read from SysFS had negative value (-1), but there must be at least one NUMA node, so returning NUMA node zero\n",
      "2023-06-27 09:56:18.195900: I tensorflow/compiler/xla/stream_executor/cuda/cuda_gpu_executor.cc:981] successful NUMA node read from SysFS had negative value (-1), but there must be at least one NUMA node, so returning NUMA node zero\n",
      "2023-06-27 09:56:18.196136: I tensorflow/compiler/xla/stream_executor/cuda/cuda_gpu_executor.cc:981] successful NUMA node read from SysFS had negative value (-1), but there must be at least one NUMA node, so returning NUMA node zero\n",
      "2023-06-27 09:56:18.196363: I tensorflow/compiler/xla/stream_executor/cuda/cuda_gpu_executor.cc:981] successful NUMA node read from SysFS had negative value (-1), but there must be at least one NUMA node, so returning NUMA node zero\n",
      "2023-06-27 09:56:18.196510: I tensorflow/core/common_runtime/gpu/gpu_device.cc:1613] Created device /job:localhost/replica:0/task:0/device:GPU:0 with 1636 MB memory:  -> device: 0, name: NVIDIA GeForce GT 1030, pci bus id: 0000:01:00.0, compute capability: 6.1\n"
     ]
    }
   ],
   "source": [
    "lookup = tf.keras.layers.StringLookup()\n",
    "lookup.adapt(targets)\n",
    "targets = lookup(targets)"
   ]
  },
  {
   "cell_type": "code",
   "execution_count": 12,
   "id": "572ce36e",
   "metadata": {},
   "outputs": [],
   "source": [
    "import json\n",
    "with open(\"../alexi/extraction/rnn99.vocab.json\", \"w\") as outfh:\n",
    "    json.dump(lookup.get_vocabulary(), outfh)"
   ]
  },
  {
   "cell_type": "code",
   "execution_count": 68,
   "id": "1f0e6f30",
   "metadata": {},
   "outputs": [],
   "source": [
    "BLOCKSIZE=128\n",
    "def make_blocks(seq, dtype=\"int32\"):\n",
    "    blocks = [seq[start:start+BLOCKSIZE] for start in range(0, seq.shape[0], BLOCKSIZE)]\n",
    "    return keras.utils.pad_sequences(blocks, padding=\"post\", dtype=dtype)\n",
    "\n",
    "xf_train_blocks = make_blocks(features, \"float32\")\n",
    "xw_train_blocks = make_blocks(words, \"float32\")\n",
    "y_train_blocks = make_blocks(targets)\n",
    "\n",
    "develdf = load_csv(\"../data/train/Rgl-1314-2021-DM-Derogations-mineures.csv\")\n",
    "xf_devel_blocks = make_blocks(make_features(develdf), \"float32\")\n",
    "xw_devel_blocks = make_blocks(make_words(develdf), \"float32\")\n",
    "y_devel_blocks = make_blocks(lookup(make_targets(develdf)))"
   ]
  },
  {
   "cell_type": "code",
   "execution_count": 69,
   "id": "c2ae9343",
   "metadata": {},
   "outputs": [
    {
     "data": {
      "text/plain": [
       "((408, 128, 14), (408, 128, 16), (408, 128), (26, 128, 14), (26, 128))"
      ]
     },
     "execution_count": 69,
     "metadata": {},
     "output_type": "execute_result"
    }
   ],
   "source": [
    "xf_train_blocks.shape, xw_train_blocks.shape, y_train_blocks.shape, xf_devel_blocks.shape, y_devel_blocks.shape"
   ]
  },
  {
   "cell_type": "code",
   "execution_count": 108,
   "id": "037233b4",
   "metadata": {},
   "outputs": [],
   "source": [
    "input_features = layers.Input(name=\"features\", shape=(BLOCKSIZE, features.shape[1]))\n",
    "input_words = layers.Input(name=\"words\", shape=(BLOCKSIZE, words.shape[1]))\n",
    "concat = layers.concatenate([input_features, input_words])\n",
    "mask = layers.Masking()(concat)\n",
    "lstm = layers.Bidirectional(layers.LSTM(128, return_sequences=True))(mask)\n",
    "outputs = layers.Dense(lookup.vocabulary_size(), activation=\"softmax\", name=\"predictions\")(lstm)\n",
    "model = keras.Model(inputs=[input_features, input_words], outputs=outputs)"
   ]
  },
  {
   "cell_type": "code",
   "execution_count": 109,
   "id": "747947dd",
   "metadata": {},
   "outputs": [],
   "source": [
    "lr_schedule = keras.optimizers.schedules.ExponentialDecay(\n",
    "    initial_learning_rate=1e-3,\n",
    "    decay_steps=500,\n",
    "    decay_rate=0.9)\n",
    "\n",
    "model.compile(\n",
    "    optimizer=keras.optimizers.Adam(learning_rate=lr_schedule),  # Optimizer\n",
    "    # Loss function to minimize\n",
    "    loss=keras.losses.SparseCategoricalCrossentropy(),\n",
    "    # List of metrics to monitor\n",
    "    metrics=[keras.metrics.SparseCategoricalAccuracy()],\n",
    ")"
   ]
  },
  {
   "cell_type": "code",
   "execution_count": 110,
   "id": "aafc87fd",
   "metadata": {},
   "outputs": [
    {
     "name": "stdout",
     "output_type": "stream",
     "text": [
      "Epoch 1/1000\n",
      "26/26 [==============================] - 11s 129ms/step - loss: 1.8849 - sparse_categorical_accuracy: 0.3806 - val_loss: 1.2932 - val_sparse_categorical_accuracy: 0.4475\n",
      "Epoch 2/1000\n",
      "26/26 [==============================] - 1s 26ms/step - loss: 1.2233 - sparse_categorical_accuracy: 0.5036 - val_loss: 1.0861 - val_sparse_categorical_accuracy: 0.5609\n",
      "Epoch 3/1000\n",
      "26/26 [==============================] - 1s 25ms/step - loss: 1.0917 - sparse_categorical_accuracy: 0.5675 - val_loss: 0.8984 - val_sparse_categorical_accuracy: 0.6403\n",
      "Epoch 4/1000\n",
      "26/26 [==============================] - 1s 25ms/step - loss: 0.8939 - sparse_categorical_accuracy: 0.6780 - val_loss: 0.8177 - val_sparse_categorical_accuracy: 0.6440\n",
      "Epoch 5/1000\n",
      "26/26 [==============================] - 1s 28ms/step - loss: 0.7496 - sparse_categorical_accuracy: 0.7278 - val_loss: 0.5091 - val_sparse_categorical_accuracy: 0.8609\n",
      "Epoch 6/1000\n",
      "26/26 [==============================] - 1s 24ms/step - loss: 0.5396 - sparse_categorical_accuracy: 0.8349 - val_loss: 0.3692 - val_sparse_categorical_accuracy: 0.8962\n",
      "Epoch 7/1000\n",
      "26/26 [==============================] - 1s 25ms/step - loss: 0.4481 - sparse_categorical_accuracy: 0.8698 - val_loss: 0.3252 - val_sparse_categorical_accuracy: 0.9153\n",
      "Epoch 8/1000\n",
      "26/26 [==============================] - 1s 25ms/step - loss: 0.3928 - sparse_categorical_accuracy: 0.8841 - val_loss: 0.2236 - val_sparse_categorical_accuracy: 0.9438\n",
      "Epoch 9/1000\n",
      "26/26 [==============================] - 1s 24ms/step - loss: 0.3696 - sparse_categorical_accuracy: 0.8933 - val_loss: 0.2320 - val_sparse_categorical_accuracy: 0.9422\n",
      "Epoch 10/1000\n",
      "26/26 [==============================] - 1s 25ms/step - loss: 0.3052 - sparse_categorical_accuracy: 0.9156 - val_loss: 0.1942 - val_sparse_categorical_accuracy: 0.9635\n",
      "Epoch 11/1000\n",
      "26/26 [==============================] - 1s 28ms/step - loss: 0.2790 - sparse_categorical_accuracy: 0.9182 - val_loss: 0.1680 - val_sparse_categorical_accuracy: 0.9580\n",
      "Epoch 12/1000\n",
      "26/26 [==============================] - 1s 25ms/step - loss: 0.2364 - sparse_categorical_accuracy: 0.9337 - val_loss: 0.1571 - val_sparse_categorical_accuracy: 0.9679\n",
      "Epoch 13/1000\n",
      "26/26 [==============================] - 1s 24ms/step - loss: 0.1940 - sparse_categorical_accuracy: 0.9497 - val_loss: 0.1385 - val_sparse_categorical_accuracy: 0.9679\n",
      "Epoch 14/1000\n",
      "26/26 [==============================] - 1s 24ms/step - loss: 0.1751 - sparse_categorical_accuracy: 0.9537 - val_loss: 0.1233 - val_sparse_categorical_accuracy: 0.9685\n",
      "Epoch 15/1000\n",
      "26/26 [==============================] - 1s 24ms/step - loss: 0.1646 - sparse_categorical_accuracy: 0.9538 - val_loss: 0.1122 - val_sparse_categorical_accuracy: 0.9731\n",
      "Epoch 16/1000\n",
      "26/26 [==============================] - 1s 23ms/step - loss: 0.2445 - sparse_categorical_accuracy: 0.9227 - val_loss: 0.2199 - val_sparse_categorical_accuracy: 0.9323\n",
      "Epoch 17/1000\n",
      "26/26 [==============================] - 1s 25ms/step - loss: 0.2560 - sparse_categorical_accuracy: 0.9194 - val_loss: 0.1279 - val_sparse_categorical_accuracy: 0.9691\n",
      "Epoch 18/1000\n",
      "26/26 [==============================] - 1s 26ms/step - loss: 0.1609 - sparse_categorical_accuracy: 0.9550 - val_loss: 0.1001 - val_sparse_categorical_accuracy: 0.9734\n",
      "Epoch 19/1000\n",
      "26/26 [==============================] - 1s 25ms/step - loss: 0.1421 - sparse_categorical_accuracy: 0.9622 - val_loss: 0.0955 - val_sparse_categorical_accuracy: 0.9753\n",
      "Epoch 20/1000\n",
      "26/26 [==============================] - 1s 26ms/step - loss: 0.1283 - sparse_categorical_accuracy: 0.9657 - val_loss: 0.1080 - val_sparse_categorical_accuracy: 0.9642\n",
      "Epoch 21/1000\n",
      "26/26 [==============================] - 1s 23ms/step - loss: 0.1533 - sparse_categorical_accuracy: 0.9534 - val_loss: 0.0890 - val_sparse_categorical_accuracy: 0.9765\n",
      "Epoch 22/1000\n",
      "26/26 [==============================] - 1s 25ms/step - loss: 0.1379 - sparse_categorical_accuracy: 0.9597 - val_loss: 0.0817 - val_sparse_categorical_accuracy: 0.9793\n",
      "Epoch 23/1000\n",
      "26/26 [==============================] - 1s 24ms/step - loss: 0.1031 - sparse_categorical_accuracy: 0.9725 - val_loss: 0.0783 - val_sparse_categorical_accuracy: 0.9774\n",
      "Epoch 24/1000\n",
      "26/26 [==============================] - 1s 25ms/step - loss: 0.0976 - sparse_categorical_accuracy: 0.9742 - val_loss: 0.0748 - val_sparse_categorical_accuracy: 0.9796\n",
      "Epoch 25/1000\n",
      "26/26 [==============================] - 1s 24ms/step - loss: 0.0938 - sparse_categorical_accuracy: 0.9750 - val_loss: 0.0731 - val_sparse_categorical_accuracy: 0.9793\n",
      "Epoch 26/1000\n",
      "26/26 [==============================] - 1s 24ms/step - loss: 0.0798 - sparse_categorical_accuracy: 0.9789 - val_loss: 0.0628 - val_sparse_categorical_accuracy: 0.9824\n",
      "Epoch 27/1000\n",
      "26/26 [==============================] - 1s 23ms/step - loss: 0.0749 - sparse_categorical_accuracy: 0.9804 - val_loss: 0.0624 - val_sparse_categorical_accuracy: 0.9824\n",
      "Epoch 28/1000\n",
      "26/26 [==============================] - 1s 25ms/step - loss: 0.0669 - sparse_categorical_accuracy: 0.9835 - val_loss: 0.0576 - val_sparse_categorical_accuracy: 0.9836\n",
      "Epoch 29/1000\n",
      "26/26 [==============================] - 1s 25ms/step - loss: 0.0694 - sparse_categorical_accuracy: 0.9818 - val_loss: 0.0855 - val_sparse_categorical_accuracy: 0.9737\n",
      "Epoch 30/1000\n",
      "26/26 [==============================] - 1s 27ms/step - loss: 0.3044 - sparse_categorical_accuracy: 0.9021 - val_loss: 0.1680 - val_sparse_categorical_accuracy: 0.9333\n",
      "Epoch 31/1000\n",
      "26/26 [==============================] - 1s 24ms/step - loss: 0.1327 - sparse_categorical_accuracy: 0.9628 - val_loss: 0.0732 - val_sparse_categorical_accuracy: 0.9864\n",
      "Epoch 32/1000\n",
      "26/26 [==============================] - 1s 25ms/step - loss: 0.0862 - sparse_categorical_accuracy: 0.9774 - val_loss: 0.0606 - val_sparse_categorical_accuracy: 0.9867\n",
      "Epoch 33/1000\n",
      "26/26 [==============================] - 1s 25ms/step - loss: 0.0688 - sparse_categorical_accuracy: 0.9827 - val_loss: 0.0582 - val_sparse_categorical_accuracy: 0.9858\n",
      "Epoch 34/1000\n",
      "26/26 [==============================] - 1s 24ms/step - loss: 0.0608 - sparse_categorical_accuracy: 0.9856 - val_loss: 0.0552 - val_sparse_categorical_accuracy: 0.9855\n",
      "Epoch 35/1000\n",
      "26/26 [==============================] - 1s 23ms/step - loss: 0.0563 - sparse_categorical_accuracy: 0.9864 - val_loss: 0.0554 - val_sparse_categorical_accuracy: 0.9830\n",
      "Epoch 36/1000\n",
      "26/26 [==============================] - 1s 24ms/step - loss: 0.0534 - sparse_categorical_accuracy: 0.9866 - val_loss: 0.0496 - val_sparse_categorical_accuracy: 0.9864\n",
      "Epoch 37/1000\n",
      "26/26 [==============================] - 1s 25ms/step - loss: 0.0507 - sparse_categorical_accuracy: 0.9874 - val_loss: 0.0512 - val_sparse_categorical_accuracy: 0.9852\n",
      "Epoch 38/1000\n",
      "26/26 [==============================] - 1s 26ms/step - loss: 0.0496 - sparse_categorical_accuracy: 0.9883 - val_loss: 0.0541 - val_sparse_categorical_accuracy: 0.9855\n",
      "Epoch 39/1000\n",
      "26/26 [==============================] - 1s 24ms/step - loss: 0.0622 - sparse_categorical_accuracy: 0.9834 - val_loss: 0.0505 - val_sparse_categorical_accuracy: 0.9839\n",
      "Epoch 40/1000\n",
      "26/26 [==============================] - 1s 27ms/step - loss: 0.0542 - sparse_categorical_accuracy: 0.9860 - val_loss: 0.0504 - val_sparse_categorical_accuracy: 0.9873\n",
      "Epoch 41/1000\n",
      "26/26 [==============================] - 1s 28ms/step - loss: 0.0454 - sparse_categorical_accuracy: 0.9896 - val_loss: 0.0473 - val_sparse_categorical_accuracy: 0.9867\n",
      "Epoch 42/1000\n",
      "26/26 [==============================] - 1s 25ms/step - loss: 0.0437 - sparse_categorical_accuracy: 0.9899 - val_loss: 0.0441 - val_sparse_categorical_accuracy: 0.9889\n",
      "Epoch 43/1000\n",
      "26/26 [==============================] - 1s 24ms/step - loss: 0.0498 - sparse_categorical_accuracy: 0.9870 - val_loss: 0.0455 - val_sparse_categorical_accuracy: 0.9879\n",
      "Epoch 44/1000\n",
      "26/26 [==============================] - 1s 25ms/step - loss: 0.0464 - sparse_categorical_accuracy: 0.9891 - val_loss: 0.0458 - val_sparse_categorical_accuracy: 0.9883\n",
      "Epoch 45/1000\n",
      "26/26 [==============================] - 1s 23ms/step - loss: 0.0393 - sparse_categorical_accuracy: 0.9911 - val_loss: 0.0411 - val_sparse_categorical_accuracy: 0.9873\n",
      "Epoch 46/1000\n"
     ]
    },
    {
     "name": "stdout",
     "output_type": "stream",
     "text": [
      "26/26 [==============================] - 1s 24ms/step - loss: 0.0358 - sparse_categorical_accuracy: 0.9921 - val_loss: 0.0408 - val_sparse_categorical_accuracy: 0.9879\n",
      "Epoch 47/1000\n",
      "26/26 [==============================] - 1s 26ms/step - loss: 0.0333 - sparse_categorical_accuracy: 0.9930 - val_loss: 0.0408 - val_sparse_categorical_accuracy: 0.9879\n",
      "Epoch 48/1000\n",
      "26/26 [==============================] - 1s 25ms/step - loss: 0.0311 - sparse_categorical_accuracy: 0.9935 - val_loss: 0.0383 - val_sparse_categorical_accuracy: 0.9889\n",
      "Epoch 49/1000\n",
      "26/26 [==============================] - 1s 25ms/step - loss: 0.0297 - sparse_categorical_accuracy: 0.9938 - val_loss: 0.0386 - val_sparse_categorical_accuracy: 0.9895\n",
      "Epoch 50/1000\n",
      "26/26 [==============================] - 1s 25ms/step - loss: 0.0286 - sparse_categorical_accuracy: 0.9942 - val_loss: 0.0385 - val_sparse_categorical_accuracy: 0.9886\n",
      "Epoch 51/1000\n",
      "26/26 [==============================] - 1s 25ms/step - loss: 0.0275 - sparse_categorical_accuracy: 0.9945 - val_loss: 0.0379 - val_sparse_categorical_accuracy: 0.9883\n",
      "Epoch 52/1000\n",
      "26/26 [==============================] - 1s 26ms/step - loss: 0.0270 - sparse_categorical_accuracy: 0.9945 - val_loss: 0.0395 - val_sparse_categorical_accuracy: 0.9879\n",
      "Epoch 53/1000\n",
      "26/26 [==============================] - 1s 25ms/step - loss: 0.0258 - sparse_categorical_accuracy: 0.9947 - val_loss: 0.0372 - val_sparse_categorical_accuracy: 0.9895\n",
      "Epoch 54/1000\n",
      "26/26 [==============================] - 1s 24ms/step - loss: 0.0246 - sparse_categorical_accuracy: 0.9954 - val_loss: 0.0385 - val_sparse_categorical_accuracy: 0.9886\n",
      "Epoch 55/1000\n",
      "26/26 [==============================] - 1s 24ms/step - loss: 0.0234 - sparse_categorical_accuracy: 0.9954 - val_loss: 0.0372 - val_sparse_categorical_accuracy: 0.9895\n",
      "Epoch 56/1000\n",
      "26/26 [==============================] - 1s 26ms/step - loss: 0.0227 - sparse_categorical_accuracy: 0.9958 - val_loss: 0.0365 - val_sparse_categorical_accuracy: 0.9889\n",
      "Epoch 57/1000\n",
      "26/26 [==============================] - 1s 25ms/step - loss: 0.0220 - sparse_categorical_accuracy: 0.9960 - val_loss: 0.0358 - val_sparse_categorical_accuracy: 0.9895\n",
      "Epoch 58/1000\n",
      "26/26 [==============================] - 1s 24ms/step - loss: 0.0335 - sparse_categorical_accuracy: 0.9914 - val_loss: 0.0309 - val_sparse_categorical_accuracy: 0.9926\n",
      "Epoch 59/1000\n",
      "26/26 [==============================] - 1s 25ms/step - loss: 0.0632 - sparse_categorical_accuracy: 0.9815 - val_loss: 0.0717 - val_sparse_categorical_accuracy: 0.9784\n",
      "Epoch 60/1000\n",
      "26/26 [==============================] - 1s 26ms/step - loss: 0.0652 - sparse_categorical_accuracy: 0.9813 - val_loss: 0.0445 - val_sparse_categorical_accuracy: 0.9904\n",
      "Epoch 61/1000\n",
      "26/26 [==============================] - 1s 24ms/step - loss: 0.0334 - sparse_categorical_accuracy: 0.9927 - val_loss: 0.0341 - val_sparse_categorical_accuracy: 0.9907\n",
      "Epoch 62/1000\n",
      "26/26 [==============================] - 1s 24ms/step - loss: 0.0313 - sparse_categorical_accuracy: 0.9925 - val_loss: 0.0333 - val_sparse_categorical_accuracy: 0.9913\n",
      "Epoch 63/1000\n",
      "26/26 [==============================] - 1s 25ms/step - loss: 0.0503 - sparse_categorical_accuracy: 0.9864 - val_loss: 0.0361 - val_sparse_categorical_accuracy: 0.9926\n",
      "Epoch 64/1000\n",
      "26/26 [==============================] - 1s 24ms/step - loss: 0.0901 - sparse_categorical_accuracy: 0.9713 - val_loss: 0.0494 - val_sparse_categorical_accuracy: 0.9876\n",
      "Epoch 65/1000\n",
      "26/26 [==============================] - 1s 25ms/step - loss: 0.0514 - sparse_categorical_accuracy: 0.9854 - val_loss: 0.0362 - val_sparse_categorical_accuracy: 0.9910\n",
      "Epoch 66/1000\n",
      "26/26 [==============================] - 1s 26ms/step - loss: 0.0298 - sparse_categorical_accuracy: 0.9938 - val_loss: 0.0327 - val_sparse_categorical_accuracy: 0.9923\n",
      "Epoch 67/1000\n",
      "26/26 [==============================] - 1s 24ms/step - loss: 0.0325 - sparse_categorical_accuracy: 0.9926 - val_loss: 0.0340 - val_sparse_categorical_accuracy: 0.9895\n",
      "Epoch 68/1000\n",
      "26/26 [==============================] - 1s 25ms/step - loss: 0.0290 - sparse_categorical_accuracy: 0.9940 - val_loss: 0.0328 - val_sparse_categorical_accuracy: 0.9907\n",
      "Epoch 69/1000\n",
      "26/26 [==============================] - 1s 24ms/step - loss: 0.0222 - sparse_categorical_accuracy: 0.9957 - val_loss: 0.0327 - val_sparse_categorical_accuracy: 0.9910\n",
      "Epoch 70/1000\n",
      "26/26 [==============================] - 1s 25ms/step - loss: 0.0205 - sparse_categorical_accuracy: 0.9960 - val_loss: 0.0313 - val_sparse_categorical_accuracy: 0.9907\n",
      "Epoch 71/1000\n",
      "26/26 [==============================] - 1s 23ms/step - loss: 0.0193 - sparse_categorical_accuracy: 0.9964 - val_loss: 0.0307 - val_sparse_categorical_accuracy: 0.9901\n",
      "Epoch 72/1000\n",
      "26/26 [==============================] - 1s 25ms/step - loss: 0.0184 - sparse_categorical_accuracy: 0.9966 - val_loss: 0.0314 - val_sparse_categorical_accuracy: 0.9901\n",
      "Epoch 73/1000\n",
      "26/26 [==============================] - 1s 27ms/step - loss: 0.0177 - sparse_categorical_accuracy: 0.9967 - val_loss: 0.0306 - val_sparse_categorical_accuracy: 0.9907\n",
      "Epoch 74/1000\n",
      "26/26 [==============================] - 1s 25ms/step - loss: 0.0170 - sparse_categorical_accuracy: 0.9969 - val_loss: 0.0308 - val_sparse_categorical_accuracy: 0.9910\n",
      "Epoch 75/1000\n",
      "26/26 [==============================] - 1s 26ms/step - loss: 0.0165 - sparse_categorical_accuracy: 0.9970 - val_loss: 0.0303 - val_sparse_categorical_accuracy: 0.9907\n",
      "Epoch 76/1000\n",
      "26/26 [==============================] - 1s 25ms/step - loss: 0.0161 - sparse_categorical_accuracy: 0.9972 - val_loss: 0.0297 - val_sparse_categorical_accuracy: 0.9901\n",
      "Epoch 77/1000\n",
      "26/26 [==============================] - 1s 25ms/step - loss: 0.0155 - sparse_categorical_accuracy: 0.9972 - val_loss: 0.0316 - val_sparse_categorical_accuracy: 0.9907\n",
      "Epoch 78/1000\n",
      "26/26 [==============================] - 1s 25ms/step - loss: 0.0152 - sparse_categorical_accuracy: 0.9972 - val_loss: 0.0290 - val_sparse_categorical_accuracy: 0.9907\n"
     ]
    },
    {
     "data": {
      "text/plain": [
       "<keras.callbacks.History at 0x7f7f710b7a60>"
      ]
     },
     "execution_count": 110,
     "metadata": {},
     "output_type": "execute_result"
    }
   ],
   "source": [
    "callback = tf.keras.callbacks.EarlyStopping(start_from_epoch=50,\n",
    "                                            monitor='val_sparse_categorical_accuracy',\n",
    "                                            patience=20, restore_best_weights=True)\n",
    "model.fit((xf_train_blocks, xw_train_blocks), y_train_blocks,\n",
    "          batch_size=16, epochs=1000, # sample_weight=y_train_weights,\n",
    "          validation_data=((xf_devel_blocks, xw_devel_blocks), y_devel_blocks),\n",
    "          callbacks=(callback,))"
   ]
  },
  {
   "cell_type": "code",
   "execution_count": 111,
   "id": "1760efbb",
   "metadata": {},
   "outputs": [
    {
     "name": "stdout",
     "output_type": "stream",
     "text": [
      "13/13 [==============================] - 0s 17ms/step - loss: 0.0407 - sparse_categorical_accuracy: 0.9893\n"
     ]
    },
    {
     "data": {
      "text/plain": [
       "[0.04069480672478676, 0.9893225431442261]"
      ]
     },
     "execution_count": 111,
     "metadata": {},
     "output_type": "execute_result"
    }
   ],
   "source": [
    "model.evaluate((xf_train_blocks, xw_train_blocks), y_train_blocks)"
   ]
  },
  {
   "cell_type": "code",
   "execution_count": 112,
   "id": "f30614f0",
   "metadata": {},
   "outputs": [
    {
     "name": "stdout",
     "output_type": "stream",
     "text": [
      "1/1 [==============================] - 0s 44ms/step - loss: 0.0306 - sparse_categorical_accuracy: 0.9926\n"
     ]
    },
    {
     "data": {
      "text/plain": [
       "[0.030638784170150757, 0.9925834536552429]"
      ]
     },
     "execution_count": 112,
     "metadata": {},
     "output_type": "execute_result"
    }
   ],
   "source": [
    "model.evaluate((xf_devel_blocks, xw_devel_blocks), y_devel_blocks)"
   ]
  },
  {
   "cell_type": "code",
   "execution_count": 113,
   "id": "9cc7b2b1",
   "metadata": {},
   "outputs": [],
   "source": [
    "def chunk(df, model):\n",
    "    xf_blocks = make_blocks(make_features(df), \"float32\")\n",
    "    xw_blocks = make_blocks(make_words(df), \"float32\")\n",
    "    vocab = lookup.get_vocabulary()\n",
    "    predictions = [vocab[i] for i in np.concatenate(model.predict((xf_blocks, xw_blocks)).argmax(axis=2))]\n",
    "    words = df.loc[:, \"text\"]\n",
    "    sentences = []\n",
    "    chunk = []\n",
    "    tag = None\n",
    "    for label, word in zip(predictions, words):\n",
    "        if label[0] == 'B':\n",
    "            if chunk:\n",
    "                sentences.append((tag, \" \".join(str(x) for x in chunk)))\n",
    "                chunk = []\n",
    "            tag = label.partition('-')[2]\n",
    "        elif len(chunk) == 0:\n",
    "            tag = label.partition('-')[2]\n",
    "        chunk.append(word)\n",
    "    sentences.append((tag, \" \".join(str(x) for x in chunk)))\n",
    "    return sentences"
   ]
  },
  {
   "cell_type": "code",
   "execution_count": 114,
   "id": "887e1333",
   "metadata": {},
   "outputs": [],
   "source": [
    "def tag(df, model):\n",
    "    xf_blocks = make_blocks(make_features(df), \"float32\")\n",
    "    xw_blocks = make_blocks(make_words(df), \"float32\")\n",
    "    vocab = lookup.get_vocabulary()\n",
    "    predictions=[vocab[i] for i in np.concatenate(model.predict((xf_blocks, xw_blocks)).argmax(axis=2))]\n",
    "    return predictions[:df.shape[0]]"
   ]
  },
  {
   "cell_type": "code",
   "execution_count": 115,
   "id": "521af2f6",
   "metadata": {},
   "outputs": [
    {
     "name": "stderr",
     "output_type": "stream",
     "text": [
      "WARNING:absl:Found untraced functions such as lstm_cell_52_layer_call_fn, lstm_cell_52_layer_call_and_return_conditional_losses, lstm_cell_53_layer_call_fn, lstm_cell_53_layer_call_and_return_conditional_losses while saving (showing 4 of 4). These functions will not be directly callable after loading.\n"
     ]
    },
    {
     "name": "stdout",
     "output_type": "stream",
     "text": [
      "INFO:tensorflow:Assets written to: ../alexi/extraction/rnn99/assets\n"
     ]
    },
    {
     "name": "stderr",
     "output_type": "stream",
     "text": [
      "INFO:tensorflow:Assets written to: ../alexi/extraction/rnn99/assets\n"
     ]
    }
   ],
   "source": [
    "model.save(\"../alexi/extraction/rnn99\")"
   ]
  },
  {
   "cell_type": "code",
   "execution_count": 116,
   "id": "18775196",
   "metadata": {},
   "outputs": [
    {
     "name": "stdout",
     "output_type": "stream",
     "text": [
      "1/1 [==============================] - 2s 2s/step\n"
     ]
    },
    {
     "data": {
      "text/plain": [
       "[('',\n",
       "  'VILLE DE SAINTE-ADÈLE PROVINCE DE QUÉBEC COMTE DE BERTRAND RÈGLEMENT NO. 1140-2010 A une séance ordinaire du Conseil municipal, tenue publiquement le 19 juillet 2010 à 20h, dans la salle du Conseil Municipal située au 1386 de la rue Dumouchel, Sainte- Adèle, province de Québec, lieu ordinaire des séances à laquelle étaient présents Mesdames et Messieurs les Conseillers Nadine Brière District 1 Lise Gendron District 3 John Butler District 4 Robert Lagacé District 5 Pierre Morabito District 6'),\n",
       " ('Alinea', 'sous la présidence de Monsieur le Maire Réjean Charbonneau.'),\n",
       " ('Alinea',\n",
       "  \"Tous membres dudit Conseil et en formant le quorum. Conformément aux dispositions de l’article 356 de la LOI SUR LES CITÉS ET VILLES (L.R.Q. 1977, ch. C-19), le greffier est dispensé de la lecture du règlement. Règlement numéro 1140-2010 décrétant la formation d’un Comité Consultatif en Environnement sur le territoire de la Ville de Sainte-Adèle. ATTENDU QUE l'avis de motion du présent règlement a été donné lors de la séance ordinaire du 21 juin 2010 par Madame la Conseillère Nadine Brière. QU'IL SOIT STATUÉ ET ORDONNÉ PAR LE PRÉSENT RÈGLEMENT CE QUI SUIT, à savoir:\"),\n",
       " ('Article', 'ARTICLE 1 TERRITOIRE ASSUJETTI'),\n",
       " ('Alinea',\n",
       "  'Le présent règlement s’applique à tout le territoire de la Ville de Sainte- Adèle.'),\n",
       " ('Article', 'ARTICLE 2 FORMATION ET NOM'),\n",
       " ('Alinea',\n",
       "  'Un comité est constitué, par le présent règlement, sous le nom de « COMITÉ CONSULTATIF EN ENVIRONNEMENT » ci-après nommé « Le Comité ».'),\n",
       " ('Article', 'ARTICLE 3 COMPOSITION'),\n",
       " ('Alinea',\n",
       "  'a) Le Comité est constitué de membres permanents et non permanents ainsi que d’un secrétaire. Le recrutement se fait par l’entremise d’une banque de candidatures sous la supervision du Conseil Municipal.'),\n",
       " ('Alinea',\n",
       "  'b) Par le présent règlement, le Conseil est autorisé à nommer, par résolution, tous les membres du Comité selon les dispositions ci-après :'),\n",
       " ('Article', 'Membres permanents :'),\n",
       " ('Enumeration',\n",
       "  '1) au moins deux (2) membres du Conseil Municipal, lesquels assureront le suivi des dossiers entre le Comité et le Conseil municipal.'),\n",
       " ('Enumeration',\n",
       "  '2) un (1) employé préposé à l’environnement désigné, sans droit de vote, et qui agit à titre de secrétaire.'),\n",
       " ('Article', 'Membres non permanents :'),\n",
       " ('Alinea',\n",
       "  '1) sept (7) membres parmi les citoyens de la Ville de Sainte-Adèle;'),\n",
       " ('Enumeration',\n",
       "  '2) parmi ces membres, le Comité désigne un coordonnateur et un coordonnateur-adjoint qui le remplace le cas échéant.'),\n",
       " ('Article', 'ARTICLE 4 DURÉE DU MANDAT'),\n",
       " ('Alinea',\n",
       "  'a) 1) Le mandat des membres permanents est valide tant et aussi longtemps que le Conseil n’en décide autrement.'),\n",
       " ('Enumeration',\n",
       "  '2) Le mandat des membres non-permanents est de vingt-quatre (24) mois à partir de la date de leur nomination et il est renouvelable.'),\n",
       " ('Enumeration', 'b) Alternance du mandat des membres non permanents :'),\n",
       " ('Alinea',\n",
       "  'Les membres non permanents seront nommés en alternance afin d’assurer la continuité du suivi des dossiers soumis.'),\n",
       " ('Alinea',\n",
       "  'c) Le Conseil Municipal peut, en tout temps et pour cause, destituer un membre du Comité et lui substituer un remplaçant pour terminer son mandat.'),\n",
       " ('Article', 'ARTICLE 5 MANDAT ET DEVOIR DU COMITÉ'),\n",
       " ('Alinea', 'Le Comité doit :'),\n",
       " ('Alinea',\n",
       "  'a) étudier toute question en matière environnementale que lui soumet le Conseil municipal et faire rapport au Conseil municipal à cet effet dans les délais fixés par celui-ci;'),\n",
       " ('Enumeration',\n",
       "  'b) recommander au Conseil municipal des programmes et des projets en matière d’environnement;'),\n",
       " ('Enumeration',\n",
       "  'c) recommander au Conseil municipal des modifications à tout programme ou projet relatif à l’environnement;'),\n",
       " ('Enumeration',\n",
       "  'd) recommander au Conseil municipal des démarches et des outils de promotion et de sensibilisation pour les programmes et tout autre sujet pertinent sur la protection de l’environnement;'),\n",
       " ('Enumeration',\n",
       "  'e) en octobre de chaque année, déposer auprès du Conseil municipal les documents suivants pour fin d’approbation : \\uf0b7 un rapport sommaire des activités de l’année;'),\n",
       " ('Alinea',\n",
       "  '\\uf0b7 le plan d’action de la prochaine année; tout ajout à ce plan d’action en cours d’année doit préalablement être soumis au Conseil municipal et approuvé par résolution;'),\n",
       " ('Alinea',\n",
       "  '\\uf0b7 des prévisions budgétaires de la prochaine année pour les activités prévues au plan d’action.'),\n",
       " ('Article', 'ARTICLE 6 POUVOIR DU COMITÉ'),\n",
       " ('Alinea', 'Le Comité peut, sur résolution préalable du Conseil municipal :'),\n",
       " ('Enumeration',\n",
       "  'a) établir tout comité d’étude formé de ses membres ou de certains d’entre eux ou d’autres personnes ressources dont les services peuvent être utiles pour permettre au Comité de remplir ses mandats;'),\n",
       " ('Enumeration',\n",
       "  'b) consulter toute personne ressource, dans le cas où il y a des honoraires à payer non prévus dans les prévisions budgétaires.'),\n",
       " ('Enumeration',\n",
       "  'c) consulter tout employé de la Ville ou requérir de tout employé tout rapport ou étude jugé nécessaire; dans ce cas, l’approbation du directeur général sera suffisante.'),\n",
       " ('Alinea',\n",
       "  'Le Comité peut également établir des règles de régie interne, telles règles devant être approuvées par le Conseil municipal avant d’entrer en vigueur.'),\n",
       " ('Article', 'ARTICLE 7 FRÉQUENCE DES RÉUNIONS'),\n",
       " ('Article', 'a) Réunion ordinaire'),\n",
       " ('Alinea',\n",
       "  'Les membres du Comité fixent un minimum de quatre (4) réunions annuelles.'),\n",
       " ('Alinea', 'b) Réunion spéciale'),\n",
       " ('Alinea',\n",
       "  'Toute réunion spéciale peut être tenue à la demande du Conseil Municipal.'),\n",
       " ('Article', 'ARTICLE 8 AVIS DE CONVOCATION'),\n",
       " ('Alinea', 'a) Les membres sont convoqués par un avis écrit.'),\n",
       " ('Alinea',\n",
       "  'b) L’avis de convocation ainsi que les documents relatifs aux dossiers inscrits à l’ordre du jour sont transmis aux membres du Comité au moins quarante-huit (48) heures avant la tenue de la réunion.'),\n",
       " ('Alinea',\n",
       "  'c) Pour les réunions spéciales, l’avis peut être verbal ou écrit et peut être signifié vingt-quatre (24) heures avant la réunion.'),\n",
       " ('Article', 'ARTICLE 9 ABSENCE AUX RÉUNIONS'),\n",
       " ('Alinea',\n",
       "  'L’absence d’un membre du Comité à trois (3) reprises consécutives ou à la majorité des réunions tenues au cours de l’année, sans motif valable, entraîne automatiquement la révocation du mandat du membre concerné.'),\n",
       " ('Article', 'ARTICLE 10 QUORUM'),\n",
       " ('Alinea',\n",
       "  'Le quorum du Comité est fixé à la moitié plus un des membres dudit Comité.'),\n",
       " ('Article', 'ARTICLE 11 PROCÉDURE DES RÉUNIONS'),\n",
       " ('Alinea', 'a) Les réunions du Comité se tiennent à huis clos.'),\n",
       " ('Alinea',\n",
       "  'b) Le coordonnateur du Comité, ou en son absence le coordonnateur- adjoint, ouvre et dirige la réunion.'),\n",
       " ('Alinea',\n",
       "  'c) Le coordonnateur demande aux membres du Comité s’il y a d’autres sujets à inscrire à l’ordre du jour préalablement transmis par le secrétaire.'),\n",
       " ('Enumeration',\n",
       "  'd) Le procès-verbal avec dispense de lecture de la réunion précédente est adopté par les membres du Comité.'),\n",
       " ('Alinea',\n",
       "  'Le procès-verbal ainsi que tout autre rapport ou document produits au Comité sont transmis au Conseil dans les meilleurs délais suivant la réunion du Comité.'),\n",
       " ('Article', 'ARTICLE 12 CONFLIT D’INTÉRÊT'),\n",
       " ('Alinea',\n",
       "  'Dans le cas de l’étude d’un dossier, lorsqu’un membre du Comité peut être en conflit d’intérêt, celui-ci doit se retirer.'),\n",
       " ('Enumeration',\n",
       "  'Les membres évitent de se placer dans des situations où ils peuvent avoir un intérêt ou un avantage personnel ou professionnel.'),\n",
       " ('Alinea',\n",
       "  'Lorsque des membres désirent présenter des projets qui peuvent les mettre dans une situation de conflit d’intérêt, ils doivent le faire par la voie administrative et politique conventionnelle plutôt que par la voie du Comité.'),\n",
       " ('Article', 'ARTICLE 13 CONFIDENTIALITÉ DES DOSSIERS'),\n",
       " ('Alinea',\n",
       "  'Les informations transmises au Comité sont confidentielles. Dans ce contexte, les renseignements, opinions et recommandations exprimés au Comité le sont également et ne doivent en aucun cas être rendus publiques.'),\n",
       " ('Article', 'ARTICLE 14 BUDGET'),\n",
       " ('Alinea',\n",
       "  'Le Comité n’a pas de budget d’opération fixe. Il peut faire des demandes au Conseil Municipal pour des projets et programmes ponctuels en cours d’année.'),\n",
       " ('Alinea', 'ARTICLE 15 Le présent règlement abroge le règlement 1078-2006.'),\n",
       " ('Article',\n",
       "  \"ARTICLE 16 Le présent règlement entrera en vigueur conformément à la Loi. RÉSOLUTION NO. 2010-262 IL EST PROPOSÉ PAR LE CONSEILLER: M. Robert Lagacé APPUYÉ PAR LA CONSEILLÈRE : Mme Lise Gendron ET RÉSOLU À L'UNANIMITÉ QUE le règlement numéro 1140-2010 soit adopté par ce Conseil. (s) Réjean Charbonneau Michel Rousseau _____________________________ ___________________________ M. Réjean Charbonneau, Maire Me Michel Rousseau, Avocat/greffier DATE D’ENTRÉE EN VIGUEUR : Le 28 juillet 2010\")]"
      ]
     },
     "execution_count": 116,
     "metadata": {},
     "output_type": "execute_result"
    }
   ],
   "source": [
    "chunk(load_csv(\"../data/1140-2010-Creation-du-CCE.csv\"), model)"
   ]
  },
  {
   "cell_type": "code",
   "execution_count": 117,
   "id": "21b007ba",
   "metadata": {},
   "outputs": [
    {
     "name": "stdout",
     "output_type": "stream",
     "text": [
      "1/1 [==============================] - 0s 28ms/step\n"
     ]
    },
    {
     "data": {
      "text/plain": [
       "[('',\n",
       "  'RÈGLEMENT NUMÉRO 1233 concernant la formation d’un comité du patrimoine Séance ordinaire du conseil municipal, tenue publiquement le 15 août 2016 à 20h, dans la salle du conseil municipal située au 1386, rue Dumouchel, Sainte-Adèle, lieu ordinaire des séances à laquelle étaient présents mesdames et messieurs les conseillers Nadine Brière District 1 Roch Bédard District 2 Gilles Legault District 3 John Butler District 4 Diane de Passillé District 6'),\n",
       " ('Alinea',\n",
       "  'Sous la présidence de monsieur le maire suppléant Robert Lagacé. Tous membres du conseil et en formant le quorum.'),\n",
       " ('Alinea',\n",
       "  'Monsieur le maire Robert Milot était absent pour toute la durée de la séance. ATTENDU la politique culturelle adoptée en septembre 2008 par le conseil municipal;'),\n",
       " ('Alinea',\n",
       "  \"ATTENDU QUE le conseil reconnait l’importance de la culture dans le développement de sa collectivité et plus encore, qu’il accepte la stratégie d'action portée par les citoyens et les organismes culturels adélois;\"),\n",
       " ('Alinea',\n",
       "  'ATTENDU QUE pour bien comprendre la notion de patrimoine culturel et de son évolution, le conseil municipal crée une structure opérationnelle qui implique plusieurs services municipaux concernés par le patrimoine;'),\n",
       " ('Alinea',\n",
       "  'ATTENDU QUE par cette démarche, le conseil veut une mobilisation des citoyens qui seront appelés à contribuer à la mise en valeur et à la conservation du patrimoine ;'),\n",
       " ('Alinea',\n",
       "  \"ATTENDU QUE pour assurer une intégration harmonieuse, une meilleure planification des actions, pour mettre en commun des pistes de réflexion et de favoriser une interaction avec les principaux acteurs préoccupés par la question du patrimoine culturel, le conseil réunit divers intervenants pour former un comité du patrimoine; ATTENDU QU'un avis de motion du présent règlement a été donné lors de la séance ordinaire du 18 juillet 2016 par monsieur le conseiller Roch Bédard ; LE CONSEIL MUNICIPAL décrète qu’il soit statué et ordonné par le présent règlement ce qui suit :\"),\n",
       " ('Article', 'SECTION 1 DISPOSITIONS GÉNÉRALES'),\n",
       " ('Alinea', 'Article 1 Dénomination Sociale'),\n",
       " ('Alinea', 'Le Comité du patrimoine de la Ville de Sainte-Adèle.'),\n",
       " ('Alinea', 'Article 2 La notion de patrimoine culturel'),\n",
       " ('Alinea',\n",
       "  'La notion de patrimoine culturel concerne non seulement les immeubles, les sites, les archives et les objets patrimoniaux, mais aussi les paysages culturels patrimoniaux, le patrimoine immatériel, les personnages historiques décédés ainsi que les événements et les lieux historiques.'),\n",
       " ('Article', 'Article 3 Mission et mandat'),\n",
       " ('Alinea',\n",
       "  'Le Comité du patrimoine a comme mission de veiller à la préservation, à la reconnaissance et à la mise en valeur du patrimoine bâti, culturel et naturel de la Ville de Sainte-Adèle.'),\n",
       " ('Alinea',\n",
       "  \"Le comité a pour mandat de rendre compte au conseil sur des questions relatives au patrimoine culturel en formulant les recommandations appropriées. Il est également responsable de veiller à ce que ses activités s'harmonisent avec les priorités stratégiques de la Ville.\"),\n",
       " ('Article', 'Article 4 Responsabilités'),\n",
       " ('Alinea',\n",
       "  'Les responsabilités du comité s’inscrivent en concordance avec la Loi sur le patrimoine culturel énoncée par le gouvernement du Québec. En effet, l’article premier de cette loi, entrée en vigueur en octobre 2012, entend « favoriser la connaissance, la protection, la mise en valeur et la transmission du patrimoine culturel, reflet de l’identité d’une société, dans l’intérêt public et dans une perspective de développement durable ». La ville de Sainte-Adèle souscrit à cet énoncé, puisque dans l’élaboration de la politique culturelle de la ville de Sainte-Adèle, en septembre 2008, le conseil municipal avait, dans une vision de stratégie globale, accepté de reconnaître, protéger, mettre en valeur l’héritage culturel et naturel des éléments présents sur son territoire et de le transmettre aux prochaines générations.'),\n",
       " ('Alinea',\n",
       "  'De même, parmi les énoncés inscrits dans sa Politique culturelle, la Ville entend poursuivre des objectifs qui favorisent :'),\n",
       " ('Article', '- la qualité de l’aménagement urbain'),\n",
       " ('Enumeration',\n",
       "  '- la mise en valeur des paysages, des sites et des biens culturels ou religieux - l’animation de circuits historiques, culturels ou patrimoniaux'),\n",
       " ('Enumeration',\n",
       "  '- les rapports entre les architectures anciennes et nouvelles - la préservation et la diffusion des archives'),\n",
       " ('Article', 'SECTION 2 LA COMPOSITION DU COMITÉ'),\n",
       " ('Alinea', 'Article 5 Nombre de membres'),\n",
       " ('Alinea',\n",
       "  'Le comité de patrimoine est constitué de sept membres, dont au moins trois représentants provenant de la collectivité (citoyens).'),\n",
       " ('Article', 'Article 6 Nomination des membres'),\n",
       " ('Alinea',\n",
       "  'La désignation des membres du comité s’effectue de façon nominative.'),\n",
       " ('Alinea',\n",
       "  'Les représentants municipaux dressent une liste des citoyens ou d’intervenants culturels intéressés par la question du patrimoine culturel. Ils analysent la pertinence et la qualité des personnes les plus susceptibles d’apporter une contribution au comité.'),\n",
       " ('Alinea',\n",
       "  'La liste des membres retenus est soumise au conseil municipal pour être entérinée.'),\n",
       " ('Article', 'Article 7 Durée du mandat'),\n",
       " ('Alinea',\n",
       "  'La durée des mandats est de deux ans et est renouvelable à tous les mois de février des années pairs. Les administrateurs sortant de charge sont rééligibles. Article 8 La catégorie des membres'),\n",
       " ('Alinea',\n",
       "  'Le comité du patrimoine est formé de sept membres répartis comme suit :'),\n",
       " ('Enumeration', '- d’un membre du conseil municipal'),\n",
       " ('Enumeration',\n",
       "  '- d’un représentant du Service des loisirs et de la culture'),\n",
       " ('Enumeration',\n",
       "  '- d’un représentant du Service de l’urbanisme et de l’environnement - d’un représentant du Service du greffe (archives)'),\n",
       " ('Enumeration', '- d’un représentant du comité culturel'),\n",
       " ('Enumeration',\n",
       "  '- de deux membres de la Société d’histoire et de généalogie des Pays-d’en- Haut et résidents de Sainte-Adèle'),\n",
       " ('Article', 'Article 9 La présence d’une expertise professionnelle'),\n",
       " ('Alinea',\n",
       "  'Pour lui permettre d’éclairer certaines de ses décisions et/ou d’obtenir un complément d’information sur un sujet précis, le comité peut requérir à l’expertise'),\n",
       " ('Article',\n",
       "  'professionnelle d’une ou de plusieurs personnes, représentant des intérêts et /ou d’autres points de vue.'),\n",
       " ('Article', 'SECTION 3 LES ASSEMBLÉES DES MEMBRES DU COMITÉ DE PATRIMOINE'),\n",
       " ('Alinea', 'Article 10 La fréquence et le lieu des assemblées'),\n",
       " ('Alinea',\n",
       "  'Les membres du Comité se réunissent aussi souvent que nécessaire, mais doivent tenir au moins deux rencontres par année.'),\n",
       " ('Article', 'Article 11 L’avis de convocation'),\n",
       " ('Alinea',\n",
       "  'L’avis de convocation à une assemblée régulière du comité se fait par écrit ou verbal. Cet avis peut aussi se donner par courrier électronique.'),\n",
       " ('Article', 'Article 12 Le quorum'),\n",
       " ('Alinea',\n",
       "  'Le quorum pour la tenue des assemblées du Comité est fixé à 50 % des membres plus un. Le quorum doit être maintenu pour toute la durée de l’assemblée.'),\n",
       " ('Article', 'Article 13 Absence aux réunions'),\n",
       " ('Alinea',\n",
       "  'L’absence d’un membre du Comité à trois (3) reprises consécutives ou à la majorité des réunions tenues au cours de l’année, sans motif valable, entraîne automatiquement la révocation du mandat du membre concerné.'),\n",
       " ('Article', 'Article 14 La présidence'),\n",
       " ('Alinea',\n",
       "  'Les membres du Comité doivent élire entre eux un président. Le mandat du président est de deux (2) ans.'),\n",
       " ('Alinea',\n",
       "  'Son rôle est de veiller au bon déroulement des rencontres, conduire les procédures et soumettre les propositions sur lesquelles un vote doit être pris. Le président, en consultation avec les autres membres du comité, fixe la date des rencontres et remplit tous les devoirs qui peuvent lui être attribués par le présent règlement ou par le comité.'),\n",
       " ('Article', 'Article 15 Le secrétariat'),\n",
       " ('Alinea',\n",
       "  'Le secrétaire est nommé parmi les représentants, issus de l’un ou l’autre des services municipaux.'),\n",
       " ('Alinea',\n",
       "  'Le secrétaire envoie les avis de convocation ainsi que l’ordre du jour. Il assiste aux rencontres, rédige les comptes rendus et signe les contrats et les documents pour les engagements du comité avec le président. Le secrétaire remplit toutes les fonctions qui lui sont attribuées par les présents règlements ou par le Comité.'),\n",
       " ('Alinea', 'Article 16 Le retrait d’un membre du Comité'),\n",
       " ('Alinea',\n",
       "  'Tout membre peut se retirer du comité en tout temps en signifiant son retrait ou sa démission, par écrit, au secrétaire du comité. Ce retrait ou cette démission prend effet à la date de réception ou à la date précisée dans l’avis.'),\n",
       " ('Article', 'Article 17 Le vote'),\n",
       " ('Alinea',\n",
       "  'Chaque membre a droit à une voix et toutes les questions doivent être décidées à la majorité simple. S’il y a égalité des voix lors d’un vote, le président est autorisé à le reporter à une prochaine assemblée, s’il le juge à propos.'),\n",
       " ('Alinea', 'Article 18 Les pouvoirs des membres du comité'),\n",
       " ('Alinea',\n",
       "  'Le comité formule des recommandations au conseil municipal concernant :'),\n",
       " ('Enumeration',\n",
       "  '- Le maintien et l’amélioration des lieux d’intérêt existants ;'),\n",
       " ('Enumeration',\n",
       "  '- La conservation du patrimoine bâti et de l’intégration architecturale ; - Le maintien du caractère patrimonial de certains quartiers ;'),\n",
       " ('Enumeration',\n",
       "  '- Le suivi aux études de caractérisation du patrimoine bâti ;'),\n",
       " ('Enumeration',\n",
       "  '- La protection et la mise en valeur de secteurs identifiés ;'),\n",
       " ('Enumeration', '- La conservation et la diffusion des archives ;'),\n",
       " ('Enumeration',\n",
       "  '- La promotion de l’ensemble du patrimoine culturel, architectural et naturel sur le territoire ;'),\n",
       " ('Article', 'Article 19 La dissolution du Comité de patrimoine'),\n",
       " ('Alinea',\n",
       "  'Toute demande de dissolution du comité, accompagnée des énoncés en ce sens, doit être soumis aux membres du conseil pour abrogation des présentes dispositions. Article 20 Entrée en vigueur Avis de motion 18 juillet 2016 Adoption 15 août 2016 Entrée en vigueur prévue le 24 août 2016 Signé à Sainte-Adèle, ce ___e jour du mois de _________ de l’an 2016. ___________________ _________________________________ Robert Milot Simon Filiatreault Maire Greffier et directeur des Services juridiques ******************************************************** CERTIFICAT D’APPROBATION RÈGLEMENT NUMÉRO 1233 En vertu de l’article 357 de la Loi sur les cités et villes : Règlement numéro 1233 concernant la formation d’un comité du patrimoine Par le conseil 15 août 2016 ___________________ _________________________________ Robert Milot Simon Filiatreault Maire Greffier et directeur des Services juridiques')]"
      ]
     },
     "execution_count": 117,
     "metadata": {},
     "output_type": "execute_result"
    }
   ],
   "source": [
    "chunk(load_csv(\"../data/00-Reglement-1233-Comite-du-patrimoine-VF.csv\"), model)"
   ]
  },
  {
   "cell_type": "code",
   "execution_count": null,
   "id": "3fcb0687",
   "metadata": {},
   "outputs": [],
   "source": []
  }
 ],
 "metadata": {
  "kernelspec": {
   "display_name": "Python 3 (ipykernel)",
   "language": "python",
   "name": "python3"
  },
  "language_info": {
   "codemirror_mode": {
    "name": "ipython",
    "version": 3
   },
   "file_extension": ".py",
   "mimetype": "text/x-python",
   "name": "python",
   "nbconvert_exporter": "python",
   "pygments_lexer": "ipython3",
   "version": "3.10.12"
  }
 },
 "nbformat": 4,
 "nbformat_minor": 5
}
